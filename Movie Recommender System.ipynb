{
 "cells": [
  {
   "cell_type": "code",
   "execution_count": 1,
   "id": "622474da-21a9-4e67-8e05-38b1c54ed011",
   "metadata": {},
   "outputs": [],
   "source": [
    "import pandas as pd\n",
    "import numpy as np\n",
    "import matplotlib.pyplot as plt\n",
    "import seaborn as sns\n",
    "from sklearn.model_selection import train_test_split\n",
    "from sklearn.feature_extraction.text import TfidfVectorizer\n",
    "from sklearn.metrics.pairwise import cosine_similarity"
   ]
  },
  {
   "cell_type": "code",
   "execution_count": 2,
   "id": "6f7e3255-5d4b-4011-8376-873bf65bfad2",
   "metadata": {},
   "outputs": [
    {
     "name": "stdout",
     "output_type": "stream",
     "text": [
      "   user_id  item_id  rating  timestamp            datetime\n",
      "0      196      242       3  881250949 1997-12-04 15:55:49\n",
      "1      186      302       3  891717742 1998-04-04 19:22:22\n",
      "2       22      377       1  878887116 1997-11-07 07:18:36\n",
      "3      244       51       2  880606923 1997-11-27 05:02:03\n",
      "4      166      346       1  886397596 1998-02-02 05:33:16\n"
     ]
    }
   ],
   "source": [
    "df = pd.read_csv(\"C:/Users/PMLS/OneDrive/Desktop/ml-100k/u.data\", sep=\"\\t\", header=None)\n",
    "\n",
    "df.columns = [\"user_id\", \"item_id\", \"rating\", \"timestamp\"]\n",
    "df[\"datetime\"] = pd.to_datetime(df[\"timestamp\"], unit=\"s\")\n",
    "print(df.head())\n"
   ]
  },
  {
   "cell_type": "code",
   "execution_count": 3,
   "id": "aae0fa99-3608-4cd8-b4a1-1cac95e55519",
   "metadata": {},
   "outputs": [],
   "source": [
    "movies = pd.read_csv( \"C:/Users/PMLS/OneDrive/Desktop/ml-100k/u.item\", sep=\"|\", header=None, encoding=\"latin-1\")\n",
    "\n",
    "movies.columns = [\"item_id\", \"title\", \"release_date\", \"video_release_date\", \"IMDb_URL\"] + [f\"genre_{i}\" for i in range(19)]\n",
    "\n",
    "movies = movies[[\"item_id\", \"title\"]]\n"
   ]
  },
  {
   "cell_type": "code",
   "execution_count": 4,
   "id": "64316b72-af4d-48ab-bbb0-579b3e853bc7",
   "metadata": {},
   "outputs": [],
   "source": [
    "df = df.merge(movies, on=\"item_id\")\n",
    "\n",
    "train_df, test_df = train_test_split(df, test_size=0.2, random_state=42)\n",
    "\n",
    "train_user_item = train_df.pivot_table(\n",
    "    index=\"user_id\",\n",
    "    columns=\"title\",\n",
    "    values=\"rating\"\n",
    ")\n"
   ]
  },
  {
   "cell_type": "code",
   "execution_count": 5,
   "id": "021ac5b5-c1cf-4740-a5b9-9ab39747e1a7",
   "metadata": {},
   "outputs": [],
   "source": [
    "from sklearn.metrics.pairwise import cosine_similarity\n",
    "\n",
    "user_similarity = cosine_similarity(train_user_item.fillna(0))\n",
    "user_similarity_df = pd.DataFrame(\n",
    "    user_similarity,\n",
    "    index=train_user_item.index,\n",
    "    columns=train_user_item.index\n",
    ")\n"
   ]
  },
  {
   "cell_type": "code",
   "execution_count": 6,
   "id": "53ff4a4f-8144-4fba-a60d-6e0e75987535",
   "metadata": {},
   "outputs": [],
   "source": [
    "def recommend_movies_userCF(target_user, num_recommendations=5):\n",
    "    \n",
    "    similar_users = user_similarity_df[target_user].sort_values(ascending=False)\n",
    "    similar_users = similar_users.drop(target_user)  # Remove self\n",
    "\n",
    "    top_users = similar_users.head(5).index\n",
    "    top_users_ratings = train_user_item.loc[top_users]\n",
    "\n",
    "    avg_ratings = top_users_ratings.mean(axis=0)\n",
    "\n",
    "    seen_movies = train_user_item.loc[target_user].dropna().index\n",
    "    \n",
    "    recommendations = avg_ratings.drop(seen_movies).sort_values(ascending=False).head(num_recommendations)\n",
    "\n",
    "    return recommendations\n"
   ]
  },
  {
   "cell_type": "code",
   "execution_count": 13,
   "id": "a67b1276-2ebe-433d-8003-b3b4c1d4b06d",
   "metadata": {},
   "outputs": [
    {
     "name": "stdout",
     "output_type": "stream",
     "text": [
      "\n",
      "Most Relevant User ID: 426 with Precision@5 = 0.600\n",
      "  1. Fargo (1996) (Relevant)\n",
      "  2. Band Wagon, The (1953) (Not Relevant)\n",
      "  3. Chinatown (1974) (Relevant)\n",
      "  4. Dial M for Murder (1954) (Relevant)\n",
      "  5. Hamlet (1996) (Not Relevant)\n",
      "\n",
      "Item-CF Precision@5 (average across all users): 0.047\n"
     ]
    }
   ],
   "source": [
    "def precision_at_k_top_user(model_func, test_data, k=5, threshold=4):\n",
    "    precisions = []\n",
    "    user_precisions = {}\n",
    "\n",
    "    for user in test_data[\"user_id\"].unique():\n",
    "        if user not in train_df[\"user_id\"].unique():\n",
    "            continue\n",
    "\n",
    "        recs = model_func(user, num_recommendations=k)\n",
    "\n",
    "        user_test_data = test_data[test_data[\"user_id\"] == user]\n",
    "        relevant_movies = set(user_test_data[user_test_data[\"rating\"] >= threshold][\"title\"])\n",
    "        recommended_movies = set(recs.index)\n",
    "        hits = recommended_movies & relevant_movies\n",
    "\n",
    "        precision = len(hits) / k\n",
    "        precisions.append(precision)\n",
    "        user_precisions[user] = (precision, recs, hits)\n",
    "\n",
    "    # Find user with max precision\n",
    "    best_user = max(user_precisions, key=lambda u: user_precisions[u][0])\n",
    "    best_precision, best_recs, best_hits = user_precisions[best_user]\n",
    "\n",
    "    # Print only best user's recommendations\n",
    "    print(f\"\\nMost Relevant User ID: {best_user} with Precision@{k} = {best_precision:.3f}\")\n",
    "    for rank, movie in enumerate(best_recs.index, start=1):\n",
    "        status = \"Relevant\" if movie in best_hits else \"Not Relevant\"\n",
    "        print(f\"  {rank}. {movie} ({status})\")\n",
    "\n",
    "    avg_precision = sum(precisions) / len(precisions)\n",
    "    return avg_precision\n",
    "\n",
    "score = precision_at_k_top_user(recommend_movies_userCF, test_df, k=5, threshold=4)\n",
    "print(f\"\\nItem-CF Precision@5 (average across all users): {score:.3f}\")\n"
   ]
  },
  {
   "cell_type": "code",
   "execution_count": 14,
   "id": "5bc23e62-d09d-42e3-b7f3-d84e2fef5520",
   "metadata": {},
   "outputs": [],
   "source": [
    "item_user_matrix = train_df.pivot_table(\n",
    "    index=\"title\",\n",
    "    columns=\"user_id\",\n",
    "    values=\"rating\"\n",
    ")\n"
   ]
  },
  {
   "cell_type": "code",
   "execution_count": 15,
   "id": "3dadb30a-d774-4925-a236-a7fcc3f1c493",
   "metadata": {},
   "outputs": [],
   "source": [
    "item_similarity = cosine_similarity(item_user_matrix.fillna(0))\n",
    "item_similarity_df = pd.DataFrame(\n",
    "    item_similarity,\n",
    "    index=item_user_matrix.index,\n",
    "    columns=item_user_matrix.index\n",
    ")"
   ]
  },
  {
   "cell_type": "code",
   "execution_count": 16,
   "id": "9062a5ff-6eb9-4b8d-8c61-0bab5982dc5a",
   "metadata": {},
   "outputs": [],
   "source": [
    "def recommend_movies_itemcf(target_user, num_recommendations=5):\n",
    "    \n",
    "    user_ratings = train_df[train_df[\"user_id\"] == target_user][[\"title\", \"rating\"]]\n",
    "\n",
    "    # Score for each movie (sum of similarity * rating)\n",
    "    scores = pd.Series(dtype=float)\n",
    "\n",
    "    for movie, rating in zip(user_ratings[\"title\"], user_ratings[\"rating\"]):\n",
    "    \n",
    "     similar_movies = item_similarity_df[movie] * rating\n",
    "     scores = scores.add(similar_movies, fill_value=0)\n",
    "\n",
    "    scores = scores.drop(user_ratings[\"title\"], errors=\"ignore\")\n",
    "\n",
    "    recommendations = scores.sort_values(ascending=False).head(num_recommendations)\n",
    "    return recommendations\n"
   ]
  },
  {
   "cell_type": "code",
   "execution_count": 17,
   "id": "6f48f6d7-bfe0-41ef-91b6-36121a2ad199",
   "metadata": {},
   "outputs": [
    {
     "name": "stdout",
     "output_type": "stream",
     "text": [
      "\n",
      "Most Relevant User ID: 416 with Precision@5 = 1.000\n",
      "  1. Empire Strikes Back, The (1980) (Relevant)\n",
      "  2. Monty Python and the Holy Grail (1974) (Relevant)\n",
      "  3. Return of the Jedi (1983) (Relevant)\n",
      "  4. Star Wars (1977) (Relevant)\n",
      "  5. Mrs. Doubtfire (1993) (Relevant)\n",
      "\n",
      "Item-CF Precision@5 (average across all users): 0.261\n"
     ]
    }
   ],
   "source": [
    "score = precision_at_k_top_user(recommend_movies_itemcf, test_df, k=5, threshold=4)\n",
    "print(f\"\\nItem-CF Precision@5 (average across all users): {score:.3f}\")"
   ]
  },
  {
   "cell_type": "code",
   "execution_count": null,
   "id": "ec7447f5-ae15-43d6-bd61-9e55db988fab",
   "metadata": {},
   "outputs": [],
   "source": []
  }
 ],
 "metadata": {
  "kernelspec": {
   "display_name": "Python 3 (ipykernel)",
   "language": "python",
   "name": "python3"
  },
  "language_info": {
   "codemirror_mode": {
    "name": "ipython",
    "version": 3
   },
   "file_extension": ".py",
   "mimetype": "text/x-python",
   "name": "python",
   "nbconvert_exporter": "python",
   "pygments_lexer": "ipython3",
   "version": "3.12.7"
  }
 },
 "nbformat": 4,
 "nbformat_minor": 5
}
